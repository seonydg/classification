{
 "cells": [
  {
   "cell_type": "code",
   "execution_count": null,
   "metadata": {},
   "outputs": [],
   "source": []
  },
  {
   "cell_type": "code",
   "execution_count": 13,
   "metadata": {},
   "outputs": [],
   "source": [
    "import os\n",
    "import cv2\n",
    "import numpy as np\n",
    "import pandas as pd\n",
    "import random\n",
    "import matplotlib.pyplot as plt\n",
    "from tqdm.notebook import tqdm\n",
    "from ipywidgets import interact\n",
    "\n",
    "import torch\n",
    "import torch.nn as nn\n",
    "import torch.optim as optim\n",
    "import torch.nn.functional as F\n",
    "\n",
    "from torch.utils.data import DataLoader, Dataset\n",
    "from torch.autograd import Variable\n",
    "\n",
    "import torchvision\n",
    "from torchvision import transforms\n",
    "\n",
    "from torchsummary import summary\n",
    "from PIL import Image\n",
    "\n",
    "from model import AlexNet"
   ]
  },
  {
   "cell_type": "code",
   "execution_count": 2,
   "metadata": {},
   "outputs": [
    {
     "name": "stdout",
     "output_type": "stream",
     "text": [
      "251 251\n",
      "./data/Cat/cat.0.jpg ./data/Dog/dog.0.jpg\n"
     ]
    }
   ],
   "source": [
    "cat_dir = './data/Cat/'\n",
    "dog_dir = './data/Dog/'\n",
    "\n",
    "cat_image_path = sorted([os.path.join(cat_dir, f) for f in os.listdir(cat_dir)])\n",
    "dog_image_path = sorted([os.path.join(dog_dir, f) for f in os.listdir(dog_dir)])\n",
    "print(len(cat_image_path), len(dog_image_path))\n",
    "print(cat_image_path[0], dog_image_path[0])"
   ]
  },
  {
   "cell_type": "code",
   "execution_count": 3,
   "metadata": {},
   "outputs": [
    {
     "name": "stdout",
     "output_type": "stream",
     "text": [
      "502\n"
     ]
    }
   ],
   "source": [
    "image_file_path = [*cat_image_path, *dog_image_path]\n",
    "correct_image_path = [i for i in image_file_path if cv2.imread(i) is not None]\n",
    "print(len(correct_image_path))"
   ]
  },
  {
   "cell_type": "code",
   "execution_count": 4,
   "metadata": {},
   "outputs": [
    {
     "name": "stdout",
     "output_type": "stream",
     "text": [
      "400 92 10\n"
     ]
    }
   ],
   "source": [
    "random.seed(29)\n",
    "random.shuffle(correct_image_path)\n",
    "\n",
    "train_image_files = correct_image_path[:400]\n",
    "val_image_files = correct_image_path[400:-10]\n",
    "test_image_files = correct_image_path[-10:]\n",
    "print(len(train_image_files), len(val_image_files), len(test_image_files))"
   ]
  },
  {
   "cell_type": "code",
   "execution_count": 5,
   "metadata": {},
   "outputs": [
    {
     "data": {
      "application/vnd.jupyter.widget-view+json": {
       "model_id": "442c5e58e1894a92ad1ff12c326a18b3",
       "version_major": 2,
       "version_minor": 0
      },
      "text/plain": [
       "interactive(children=(IntSlider(value=0, description='index', max=399), Output()), _dom_classes=('widget-inter…"
      ]
     },
     "metadata": {},
     "output_type": "display_data"
    }
   ],
   "source": [
    "@interact(index=(0, len(train_image_files)-1))\n",
    "def image_show(index=0):\n",
    "    image = train_image_files[index]\n",
    "    image = cv2.imread(image)\n",
    "    print('image shape: ', image.shape)\n",
    "    image = cv2.cvtColor(image, cv2.COLOR_BGR2RGB)\n",
    "    plt.title(train_image_files[index].split('/')[-1].split('.')[0])\n",
    "    plt.imshow(image)\n",
    "    plt.tight_layout()\n",
    "    plt.show()"
   ]
  },
  {
   "cell_type": "code",
   "execution_count": 6,
   "metadata": {},
   "outputs": [],
   "source": [
    "class build_transform():\n",
    "    def __init__(self, image_size, mean, std):\n",
    "        self.transform = {\n",
    "                    'train':transforms.Compose([\n",
    "                                                transforms.RandomResizedCrop(image_size, scale=(0.5, 1.0)),\n",
    "                                                transforms.RandomHorizontalFlip(),\n",
    "                                                transforms.ToTensor(),\n",
    "                                                transforms.Normalize(mean=mean, std=std)\n",
    "                    ]),\n",
    "                    'val':transforms.Compose([\n",
    "                                                transforms.Resize(image_size),\n",
    "                                                transforms.CenterCrop(image_size),\n",
    "                                                transforms.ToTensor(),\n",
    "                                                transforms.Normalize(mean=mean, std=std)\n",
    "                    ])\n",
    "        }\n",
    "    \n",
    "    def __call__(self, image, phase):\n",
    "        return self.transform[phase](image)"
   ]
  },
  {
   "cell_type": "code",
   "execution_count": 7,
   "metadata": {},
   "outputs": [],
   "source": [
    "class MyDataset(Dataset):\n",
    "    def __init__(self, file_list, phase='train', transform=None):\n",
    "        self.file_list = file_list\n",
    "        self.phase = phase\n",
    "        self.transform = transform\n",
    "    \n",
    "    def __len__(self):\n",
    "        return len(self.file_list)\n",
    "    \n",
    "    def __getitem__(self, index):\n",
    "        image_path = self.file_list[index]\n",
    "        image = Image.open(image_path)\n",
    "        image_transform = self.transform(image, self.phase)\n",
    "\n",
    "        label = image_path.split('/')[-1].split('.')[0]\n",
    "        if label == 'dog':\n",
    "            label = 1\n",
    "        else: # cat\n",
    "            label = 0\n",
    "        \n",
    "        return image_transform, label"
   ]
  },
  {
   "cell_type": "code",
   "execution_count": 8,
   "metadata": {},
   "outputs": [
    {
     "data": {
      "text/plain": [
       "device(type='cpu')"
      ]
     },
     "execution_count": 8,
     "metadata": {},
     "output_type": "execute_result"
    }
   ],
   "source": [
    "image_size = 256\n",
    "mean = (0.485, 0.456, 0.406)\n",
    "std = (0.229, 0.224, 0.225)\n",
    "batch_size = 32\n",
    "DEVICE = torch.device('cuda' if torch.cuda.is_available() else 'cpu')\n",
    "DEVICE"
   ]
  },
  {
   "cell_type": "code",
   "execution_count": 9,
   "metadata": {},
   "outputs": [
    {
     "name": "stdout",
     "output_type": "stream",
     "text": [
      "torch.Size([3, 256, 256])\n",
      "0\n"
     ]
    }
   ],
   "source": [
    "train_dataset = MyDataset(train_image_files, transform=build_transform(image_size=image_size, mean=mean, std=std), phase='train')\n",
    "val_dataset = MyDataset(val_image_files, transform=build_transform(image_size=image_size, mean=mean, std=std), phase='val')\n",
    "test_dataset = MyDataset(test_image_files, transform=build_transform(image_size=image_size, mean=mean, std=std), phase='val')\n",
    "\n",
    "index = 0\n",
    "print(train_dataset.__getitem__(index)[0].size())\n",
    "print(train_dataset.__getitem__(index)[1])"
   ]
  },
  {
   "cell_type": "code",
   "execution_count": 10,
   "metadata": {},
   "outputs": [
    {
     "name": "stdout",
     "output_type": "stream",
     "text": [
      "torch.Size([32, 3, 256, 256])\n",
      "tensor([0, 1, 0, 1, 0, 0, 0, 1, 1, 1, 0, 1, 0, 0, 1, 1, 1, 0, 1, 1, 1, 1, 0, 0,\n",
      "        0, 1, 1, 1, 0, 1, 1, 0])\n"
     ]
    }
   ],
   "source": [
    "train_dataloader = DataLoader(train_dataset, batch_size=batch_size, shuffle=True)\n",
    "val_dataloader = DataLoader(val_dataset, batch_size=batch_size, shuffle=False)\n",
    "test_dataloader = DataLoader(test_dataset, batch_size=batch_size, shuffle=False)\n",
    "dataloaders = {'train':train_dataloader, 'val':val_dataloader}\n",
    "\n",
    "images, labels = next(iter(dataloaders['train']))\n",
    "print(images.size())\n",
    "print(labels)"
   ]
  },
  {
   "cell_type": "code",
   "execution_count": 11,
   "metadata": {},
   "outputs": [],
   "source": [
    "model = AlexNet()\n",
    "model = model.to(DEVICE)"
   ]
  },
  {
   "cell_type": "code",
   "execution_count": 12,
   "metadata": {},
   "outputs": [
    {
     "data": {
      "text/plain": [
       "AlexNet(\n",
       "  (features): Sequential(\n",
       "    (0): Conv2d(3, 64, kernel_size=(11, 11), stride=(4, 4), padding=(2, 2))\n",
       "    (1): ReLU(inplace=True)\n",
       "    (2): MaxPool2d(kernel_size=3, stride=2, padding=0, dilation=1, ceil_mode=False)\n",
       "    (3): Conv2d(64, 192, kernel_size=(5, 5), stride=(1, 1), padding=(2, 2))\n",
       "    (4): ReLU(inplace=True)\n",
       "    (5): MaxPool2d(kernel_size=3, stride=2, padding=0, dilation=1, ceil_mode=False)\n",
       "    (6): Conv2d(192, 384, kernel_size=(3, 3), stride=(1, 1), padding=(1, 1))\n",
       "    (7): ReLU(inplace=True)\n",
       "    (8): Conv2d(384, 256, kernel_size=(3, 3), stride=(1, 1), padding=(1, 1))\n",
       "    (9): ReLU(inplace=True)\n",
       "    (10): Conv2d(256, 256, kernel_size=(3, 3), stride=(1, 1), padding=(1, 1))\n",
       "    (11): ReLU(inplace=True)\n",
       "    (12): MaxPool2d(kernel_size=3, stride=2, padding=0, dilation=1, ceil_mode=False)\n",
       "  )\n",
       "  (avgpool): AdaptiveAvgPool2d(output_size=(6, 6))\n",
       "  (classifier): Sequential(\n",
       "    (0): Dropout(p=0.5, inplace=False)\n",
       "    (1): Linear(in_features=9216, out_features=4096, bias=True)\n",
       "    (2): ReLU(inplace=True)\n",
       "    (3): Dropout(p=0.5, inplace=False)\n",
       "    (4): Linear(in_features=4096, out_features=512, bias=True)\n",
       "    (5): ReLU(inplace=True)\n",
       "    (6): Linear(in_features=512, out_features=2, bias=True)\n",
       "  )\n",
       ")"
      ]
     },
     "execution_count": 12,
     "metadata": {},
     "output_type": "execute_result"
    }
   ],
   "source": [
    "model"
   ]
  },
  {
   "cell_type": "code",
   "execution_count": 14,
   "metadata": {},
   "outputs": [
    {
     "name": "stdout",
     "output_type": "stream",
     "text": [
      "----------------------------------------------------------------\n",
      "        Layer (type)               Output Shape         Param #\n",
      "================================================================\n",
      "            Conv2d-1           [-1, 64, 63, 63]          23,296\n",
      "              ReLU-2           [-1, 64, 63, 63]               0\n",
      "         MaxPool2d-3           [-1, 64, 31, 31]               0\n",
      "            Conv2d-4          [-1, 192, 31, 31]         307,392\n",
      "              ReLU-5          [-1, 192, 31, 31]               0\n",
      "         MaxPool2d-6          [-1, 192, 15, 15]               0\n",
      "            Conv2d-7          [-1, 384, 15, 15]         663,936\n",
      "              ReLU-8          [-1, 384, 15, 15]               0\n",
      "            Conv2d-9          [-1, 256, 15, 15]         884,992\n",
      "             ReLU-10          [-1, 256, 15, 15]               0\n",
      "           Conv2d-11          [-1, 256, 15, 15]         590,080\n",
      "             ReLU-12          [-1, 256, 15, 15]               0\n",
      "        MaxPool2d-13            [-1, 256, 7, 7]               0\n",
      "AdaptiveAvgPool2d-14            [-1, 256, 6, 6]               0\n",
      "          Dropout-15                 [-1, 9216]               0\n",
      "           Linear-16                 [-1, 4096]      37,752,832\n",
      "             ReLU-17                 [-1, 4096]               0\n",
      "          Dropout-18                 [-1, 4096]               0\n",
      "           Linear-19                  [-1, 512]       2,097,664\n",
      "             ReLU-20                  [-1, 512]               0\n",
      "           Linear-21                    [-1, 2]           1,026\n",
      "================================================================\n",
      "Total params: 42,321,218\n",
      "Trainable params: 42,321,218\n",
      "Non-trainable params: 0\n",
      "----------------------------------------------------------------\n",
      "Input size (MB): 0.75\n",
      "Forward/backward pass size (MB): 10.90\n",
      "Params size (MB): 161.44\n",
      "Estimated Total Size (MB): 173.10\n",
      "----------------------------------------------------------------\n"
     ]
    }
   ],
   "source": [
    "optimizer = optim.SGD(model.parameters(), lr=0.001, momentum=0.9)\n",
    "criterion = nn.CrossEntropyLoss().to(DEVICE)\n",
    "summary(model, input_size=(3, 256, 256))"
   ]
  },
  {
   "cell_type": "code",
   "execution_count": null,
   "metadata": {},
   "outputs": [],
   "source": []
  }
 ],
 "metadata": {
  "kernelspec": {
   "display_name": "base",
   "language": "python",
   "name": "python3"
  },
  "language_info": {
   "codemirror_mode": {
    "name": "ipython",
    "version": 3
   },
   "file_extension": ".py",
   "mimetype": "text/x-python",
   "name": "python",
   "nbconvert_exporter": "python",
   "pygments_lexer": "ipython3",
   "version": "3.8.12"
  },
  "orig_nbformat": 4
 },
 "nbformat": 4,
 "nbformat_minor": 2
}
